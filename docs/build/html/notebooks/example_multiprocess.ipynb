{
 "cells": [
  {
   "cell_type": "markdown",
   "metadata": {},
   "source": [
    "## Multiprocess\n",
    "\n"
   ]
  },
  {
   "cell_type": "markdown",
   "metadata": {},
   "source": [
    "### Initialization\n",
    "\n"
   ]
  },
  {
   "cell_type": "code",
   "execution_count": 1,
   "metadata": {},
   "outputs": [],
   "source": [
    "%load_ext autoreload\n",
    "%autoreload 2\n",
    "import numpy as np\n",
    "import pandas as pd\n",
    "from TSload import TSloader, LoadersProcess"
   ]
  },
  {
   "cell_type": "code",
   "execution_count": 1,
   "metadata": {},
   "outputs": [],
   "source": [
    "path = \"data/example_multiprocess\"\n",
    "split = [\"split0\", \"split1\"]\n",
    "permission = \"overwrite\"  # Overwrite is used for repeated execution"
   ]
  },
  {
   "cell_type": "code",
   "execution_count": 1,
   "metadata": {},
   "outputs": [
    {
     "name": "stdout",
     "output_type": "stream",
     "text": [
      "#+begin_example\n",
      "      ID timestamp  feature0\n",
      "0  name1         0         0\n",
      "1  name1         1         1\n",
      "2  name1         2         2\n",
      "3  name1         3         3\n",
      "4  name1         4         4\n",
      "5  name2         5         5\n",
      "6  name2         6         6\n",
      "7  name2         7         7\n",
      "8  name2         8         8\n",
      "9  name2         9         9\n",
      "      ID  timestamp  feature1\n",
      "0  name1         10         0\n",
      "1  name1         11         1\n",
      "2  name1         12         2\n",
      "3  name1         13         3\n",
      "4  name1         14         4\n",
      "5  name2         15         5\n",
      "6  name2         16         6\n",
      "7  name2         17         7\n",
      "8  name2         18         8\n",
      "9  name2         19         9\n",
      "#+end_example"
     ]
    }
   ],
   "source": [
    "datatype=\"splitted_data\"\n",
    "d = {\"ID\": np.hstack(([\"name1\" for _ in range(5)], [\"name2\" for _ in range(5)])),\n",
    "    \"timestamp\": list(map(str, range(0,10))),\n",
    "     \"feature0\": list(range(10)), \"feature1\": list(range(10))}\n",
    "df1 = pd.DataFrame(data=d).drop(\"feature1\", axis=1)\n",
    "df2 = df1.copy()\n",
    "df2 = pd.DataFrame(data=d).drop(\"feature0\", axis=1)\n",
    "df2[\"timestamp\"] = df2[\"timestamp\"].map(int) + 10\n",
    "print(df1)\n",
    "print(df2)"
   ]
  },
  {
   "cell_type": "markdown",
   "metadata": {},
   "source": [
    "### Multiprocessing writing\n",
    "\n"
   ]
  },
  {
   "cell_type": "markdown",
   "metadata": {},
   "source": [
    "##### Set the splitting scheme\n",
    "\n"
   ]
  },
  {
   "cell_type": "code",
   "execution_count": 1,
   "metadata": {},
   "outputs": [],
   "source": [
    "metaloader = TSloader(path, datatype, split=split, permission=permission)\n",
    "metaloader.write()"
   ]
  },
  {
   "cell_type": "code",
   "execution_count": 1,
   "metadata": {},
   "outputs": [
    {
     "name": "stdout",
     "output_type": "stream",
     "text": [
      "split             IDs              features\n",
      "datatype                                                             \n",
      "splitted_data  [split0, split1]  [name2, name1]  [feature0, feature1]"
     ]
    }
   ],
   "source": [
    "metaloader.metadata"
   ]
  },
  {
   "cell_type": "markdown",
   "metadata": {},
   "source": [
    "##### Initialize the loaders\n",
    "\n"
   ]
  },
  {
   "cell_type": "code",
   "execution_count": 1,
   "metadata": {},
   "outputs": [],
   "source": [
    "loader1 = TSloader(path, datatype, subsplit_indices=[0],\n",
    "                   permission=permission, parallel=True)\n",
    "loader2 = TSloader(path, datatype, subsplit_indices=[1],\n",
    "                   permission=permission, parallel=True)\n",
    "\n",
    "loader1.initialize_datatype(df1)\n",
    "loader2.initialize_datatype(df2)"
   ]
  },
  {
   "cell_type": "markdown",
   "metadata": {},
   "source": [
    "##### Write\n",
    "\n"
   ]
  },
  {
   "cell_type": "code",
   "execution_count": 1,
   "metadata": {},
   "outputs": [
    {
     "name": "stdout",
     "output_type": "stream",
     "text": [
      "#+begin_example\n",
      "                 feature0\n",
      "ID    timestamp          \n",
      "name1 0                 0\n",
      "      1                 1\n",
      "      2                 2\n",
      "      3                 3\n",
      "      4                 4\n",
      "name2 5                 5\n",
      "      6                 6\n",
      "      7                 7\n",
      "      8                 8\n",
      "      9                 9\n",
      "                 feature1\n",
      "ID    timestamp          \n",
      "name1 10                0\n",
      "      11                1\n",
      "      12                2\n",
      "      13                3\n",
      "      14                4\n",
      "name2 15                5\n",
      "      16                6\n",
      "      17                7\n",
      "      18                8\n",
      "      19                9\n",
      "#+end_example"
     ]
    }
   ],
   "source": [
    "p = LoadersProcess([loader1, loader2], lambda loader : print(loader.df))\n",
    "p.start()\n",
    "p.join()\n",
    "p = LoadersProcess([loader1, loader2], lambda loader : loader.write())\n",
    "p.start()\n",
    "p.join()"
   ]
  },
  {
   "cell_type": "code",
   "execution_count": 1,
   "metadata": {},
   "outputs": [
    {
     "name": "stdout",
     "output_type": "stream",
     "text": [
      "split             IDs              features\n",
      "datatype                                                             \n",
      "splitted_data  [split0, split1]  [name1, name2]  [feature0, feature1]"
     ]
    }
   ],
   "source": [
    "metaloader.merge_metadata(rm=False)\n",
    "print(metaloader.metadata)"
   ]
  },
  {
   "cell_type": "markdown",
   "metadata": {},
   "source": [
    "### Multiprocessing loading\n",
    "\n"
   ]
  },
  {
   "cell_type": "code",
   "execution_count": 1,
   "metadata": {},
   "outputs": [
    {
     "name": "stdout",
     "output_type": "stream",
     "text": [
      "split             IDs              features\n",
      "datatype                                                             \n",
      "splitted_data  [split0, split1]  [name1, name2]  [feature0, feature1]"
     ]
    }
   ],
   "source": [
    "loader1 = TSloader(path, datatype, \n",
    "                   permission=permission, parallel=False)\n",
    "loader1.metadata"
   ]
  },
  {
   "cell_type": "code",
   "execution_count": 1,
   "metadata": {},
   "outputs": [],
   "source": [
    "loader1 = TSloader(path, datatype, subsplit_indices=[0],\n",
    "                   permission=permission, parallel=False)\n",
    "loader2 = TSloader(path, datatype, subsplit_indices=[1],\n",
    "                   permission=permission, parallel=False)"
   ]
  },
  {
   "cell_type": "code",
   "execution_count": 1,
   "metadata": {},
   "outputs": [
    {
     "name": "stdout",
     "output_type": "stream",
     "text": [
      "#+begin_example\n",
      "                 feature0\n",
      "ID    timestamp          \n",
      "name1 0                 0\n",
      "      1                 1\n",
      "      2                 2\n",
      "      3                 3\n",
      "      4                 4\n",
      "name2 5                 5\n",
      "      6                 6\n",
      "      7                 7\n",
      "      8                 8\n",
      "      9                 9\n",
      "                 feature1\n",
      "ID    timestamp          \n",
      "name1 10                0\n",
      "      11                1\n",
      "      12                2\n",
      "      13                3\n",
      "      14                4\n",
      "name2 15                5\n",
      "      16                6\n",
      "      17                7\n",
      "      18                8\n",
      "      19                9\n",
      "#+end_example"
     ]
    }
   ],
   "source": [
    "p = LoadersProcess([loader1, loader2], lambda loader : loader.load())\n",
    "p.start()\n",
    "p.join()\n",
    "p = LoadersProcess([loader1, loader2], lambda loader : print(loader.df))\n",
    "p.start()\n",
    "p.join()"
   ]
  }
 ],
 "metadata": {
  "kernelspec": {
   "display_name": "Python 3",
   "language": "python",
   "name": "python3"
  },
  "language_info": {
   "codemirror_mode": {
    "name": "ipython",
    "version": 3
   },
   "file_extension": ".py",
   "mimetype": "text/x-python",
   "name": "python",
   "nbconvert_exporter": "python",
   "pygments_lexer": "ipython3",
   "version": "3.5.2"
  },
  "org": null
 },
 "nbformat": 4,
 "nbformat_minor": 0
}

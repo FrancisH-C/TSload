{
 "cells": [
  {
   "cell_type": "markdown",
   "metadata": {},
   "source": [
    "## Use case\n",
    "\n"
   ]
  },
  {
   "cell_type": "markdown",
   "metadata": {},
   "source": [
    "Use exactly one loader per datatype.\n",
    "This is an example of how to use most of the methods in the package.\n",
    "Most of cases are advanced.\n",
    "\n",
    "This notebook uses data from `example_multiprocess`, make sure to run it first.\n",
    "\n"
   ]
  },
  {
   "cell_type": "markdown",
   "metadata": {},
   "source": [
    "### Initialization\n",
    "\n"
   ]
  },
  {
   "cell_type": "code",
   "execution_count": 1,
   "metadata": {},
   "outputs": [],
   "source": [
    "%load_ext autoreload\n",
    "%autoreload 2\n",
    "import numpy as np\n",
    "import pandas as pd\n",
    "from TSload import TSloader, DataFormat"
   ]
  },
  {
   "cell_type": "code",
   "execution_count": 1,
   "metadata": {},
   "outputs": [],
   "source": [
    "path = \"data/example_use_case/data\"\n",
    "datatype = \"simulated\"\n",
    "split = [\"0\", \"1\"]\n",
    "permission = \"overwrite\"  # Overwrite is used for repeated execution\n",
    "loader = TSloader(path, datatype, permission=permission)"
   ]
  },
  {
   "cell_type": "markdown",
   "metadata": {},
   "source": [
    "### Data operations\n",
    "\n"
   ]
  },
  {
   "cell_type": "markdown",
   "metadata": {},
   "source": [
    "#### Add datatype\n",
    "\n"
   ]
  },
  {
   "cell_type": "code",
   "execution_count": 1,
   "metadata": {},
   "outputs": [
    {
     "name": "stdout",
     "output_type": "stream",
     "text": [
      "#+begin_example\n",
      "                 feature1  feature2\n",
      "ID    timestamp                    \n",
      "name1 0                 0        10\n",
      "      1                 1        11\n",
      "      2                 2        12\n",
      "      3                 3        13\n",
      "      4                 4        14\n",
      "name2 5                 5        15\n",
      "      6                 6        16\n",
      "      7                 7        17\n",
      "      8                 8        18\n",
      "      9                 9        19\n",
      "#+end_example"
     ]
    }
   ],
   "source": [
    "d = {\"ID\": np.hstack(([\"name1\" for _ in range(5)], [\"name2\" for _ in range(5)])),\n",
    "    \"timestamp\": list(map(str, range(0,10))),\n",
    "     \"feature1\": list(range(10)), \"feature2\": list(range(10,20))}\n",
    "df = pd.DataFrame(data=d)\n",
    "loader.initialize_datatype(df=df)\n",
    "print(loader.df)"
   ]
  },
  {
   "cell_type": "markdown",
   "metadata": {},
   "source": [
    "#### Add ID\n",
    "\n"
   ]
  },
  {
   "cell_type": "code",
   "execution_count": 1,
   "metadata": {},
   "outputs": [
    {
     "name": "stdout",
     "output_type": "stream",
     "text": [
      "split                       IDs              features         start  \\\n",
      "datatype                                                                        \n",
      "simulated    []  [added_ID, name2, name1]  [feature2, feature1]  [2016-01-01]   \n",
      "\n",
      "          test test2  \n",
      "datatype              \n",
      "simulated  [0]   [1]"
     ]
    }
   ],
   "source": [
    "ID = \"added_ID\"\n",
    "d = {\"timestamp\": list(map(str, range(0,5))), \"feature1\": list(range(5)) ,\"feature2\": list(range(10,15))}\n",
    "df = pd.DataFrame(data=d)\n",
    "loader.add_ID(df, ID=ID)\n",
    "print(loader.metadata) # in memory"
   ]
  },
  {
   "cell_type": "markdown",
   "metadata": {},
   "source": [
    "#### Add feature\n",
    "\n"
   ]
  },
  {
   "cell_type": "markdown",
   "metadata": {},
   "source": [
    "It is definitely easier to add the datatype correctly in the first place\n",
    "than to use `add_feature`.\n",
    "\n",
    "You can add feature for name1\n",
    "\n"
   ]
  },
  {
   "cell_type": "code",
   "execution_count": 1,
   "metadata": {},
   "outputs": [
    {
     "name": "stdout",
     "output_type": "stream",
     "text": [
      "split                       IDs              features         start  \\\n",
      "datatype                                                                        \n",
      "simulated    []  [added_ID, name2, name1]  [feature2, feature1]  [2016-01-01]   \n",
      "\n",
      "          test test2  \n",
      "datatype              \n",
      "simulated  [0]   [1]"
     ]
    }
   ],
   "source": [
    "feature = \"added_feature\"\n",
    "d = {\"timestamp\": list(map(str, range(10))), feature: list(range(10))}\n",
    "df = pd.DataFrame(data=d)\n",
    "#print(df)\n",
    "loader.add_feature(df, ID=\"added_ID\", feature=feature)\n",
    "loader.metadata"
   ]
  },
  {
   "cell_type": "markdown",
   "metadata": {},
   "source": [
    "#### Remove data\n",
    "\n"
   ]
  },
  {
   "cell_type": "code",
   "execution_count": 1,
   "metadata": {},
   "outputs": [
    {
     "name": "stdout",
     "output_type": "stream",
     "text": [
      "#+begin_example\n",
      "                    feature1  feature2  added_feature\n",
      "ID       timestamp                                   \n",
      "name1    0               0.0      10.0            NaN\n",
      "         1               1.0      11.0            NaN\n",
      "         2               2.0      12.0            NaN\n",
      "         3               3.0      13.0            NaN\n",
      "         4               4.0      14.0            NaN\n",
      "name2    5               5.0      15.0            NaN\n",
      "         6               6.0      16.0            NaN\n",
      "         7               7.0      17.0            NaN\n",
      "         8               8.0      18.0            NaN\n",
      "         9               9.0      19.0            NaN\n",
      "added_ID 0               0.0      10.0            0.0\n",
      "         1               1.0      11.0            1.0\n",
      "         2               2.0      12.0            2.0\n",
      "         3               3.0      13.0            3.0\n",
      "         4               4.0      14.0            4.0\n",
      "         5               NaN       NaN            5.0\n",
      "         6               NaN       NaN            6.0\n",
      "         7               NaN       NaN            7.0\n",
      "         8               NaN       NaN            8.0\n",
      "         9               NaN       NaN            9.0\n",
      "#+end_example"
     ]
    }
   ],
   "source": [
    "empty_loader = TSloader(path, datatype, permission=permission)\n",
    "empty_loader.df"
   ]
  },
  {
   "cell_type": "code",
   "execution_count": 1,
   "metadata": {},
   "outputs": [],
   "source": [
    "empty_loader.rm_datatype()\n",
    "assert len(empty_loader.df) == 0"
   ]
  },
  {
   "cell_type": "markdown",
   "metadata": {},
   "source": [
    "### Metadata operations\n",
    "\n"
   ]
  },
  {
   "cell_type": "markdown",
   "metadata": {},
   "source": [
    "#### Add metadata\n",
    "\n"
   ]
  },
  {
   "cell_type": "code",
   "execution_count": 1,
   "metadata": {},
   "outputs": [
    {
     "name": "stdout",
     "output_type": "stream",
     "text": [
      "split                       IDs              features         start  \\\n",
      "datatype                                                                        \n",
      "simulated    []  [added_ID, name2, name1]  [feature2, feature1]  [2016-01-01]   \n",
      "\n",
      "          test test2  \n",
      "datatype              \n",
      "simulated  [0]   [1]"
     ]
    }
   ],
   "source": [
    "loader.overwrite_metadata(start=\"2016-01-01\")\n",
    "loader.add_metadata(start=\"2016-01-01\")\n",
    "loader.add_metadata(test=[\"0\", \"0\"], test2=[\"1\", \"1\"])\n",
    "loader.metadata"
   ]
  },
  {
   "cell_type": "markdown",
   "metadata": {},
   "source": [
    "Don't forget to write the changes on the file\n",
    "\n"
   ]
  },
  {
   "cell_type": "code",
   "execution_count": 1,
   "metadata": {},
   "outputs": [],
   "source": [
    "loader.write()"
   ]
  },
  {
   "cell_type": "markdown",
   "metadata": {},
   "source": [
    "### Dataset operations\n",
    "\n"
   ]
  },
  {
   "cell_type": "markdown",
   "metadata": {},
   "source": [
    "*Execution order here is important.*\n",
    "\n"
   ]
  },
  {
   "cell_type": "markdown",
   "metadata": {},
   "source": [
    "#### Instantiate\n",
    "\n"
   ]
  },
  {
   "cell_type": "code",
   "execution_count": 1,
   "metadata": {},
   "outputs": [
    {
     "name": "stdout",
     "output_type": "stream",
     "text": [
      "#+begin_example\n",
      "    Use case metadata\n",
      "    -----------------\n",
      "              split                       IDs              features         start  \\\n",
      "    datatype                                                                        \n",
      "    simulated    []  [added_ID, name2, name1]  [feature2, feature1]  [2016-01-01]   \n",
      "\n",
      "              test test2  \n",
      "    datatype              \n",
      "    simulated  [0]   [1]  \n",
      "\n",
      "    Multiprocess metadata\n",
      "    ---------------------\n",
      "                              split             IDs              features\n",
      "    splitted_data  [split0, split1]  [name1, name2]  [feature0, feature1]\n",
      "    simulated                    []              []                    []\n",
      "    #+end_example"
     ]
    }
   ],
   "source": [
    "data_path = \"data/example_use_case/data\"\n",
    "multiprocess_path = \"data/example_multiprocess\"\n",
    "copy_path = \"data/example_use_case/copy\"\n",
    "move_path = \"data/example_use_case/move\"\n",
    "merge_path = \"data/example_use_case/example_merge\"\n",
    "permission = \"overwrite\"\n",
    "data_loader = TSloader(data_path, datatype, permission=permission)\n",
    "multiprocess_loader = TSloader(multiprocess_path, datatype, permission=permission)\n",
    "print(\"Use case metadata\")\n",
    "print(\"-----------------\")\n",
    "print(data_loader.metadata)\n",
    "print()\n",
    "print(\"Multiprocess metadata\")\n",
    "print(\"---------------------\")\n",
    "print(multiprocess_loader.metadata)"
   ]
  },
  {
   "cell_type": "markdown",
   "metadata": {},
   "source": [
    "##### Copy the data to \\`copy\\_path\\`\n",
    "\n"
   ]
  },
  {
   "cell_type": "code",
   "execution_count": 1,
   "metadata": {},
   "outputs": [],
   "source": [
    "data_loader.copy_dataset(copy_path)"
   ]
  },
  {
   "cell_type": "markdown",
   "metadata": {},
   "source": [
    "##### Move data to \\`move\\_path\\`\n",
    "\n"
   ]
  },
  {
   "cell_type": "code",
   "execution_count": 1,
   "metadata": {},
   "outputs": [],
   "source": [
    "data_loader.move_dataset(move_path)"
   ]
  },
  {
   "cell_type": "markdown",
   "metadata": {},
   "source": [
    "##### Remove data from loader's path (\\`move\\_path\\`) and set its path back\n",
    "\n"
   ]
  },
  {
   "cell_type": "code",
   "execution_count": 1,
   "metadata": {},
   "outputs": [],
   "source": [
    "data_loader.rm_dataset()\n",
    "data_loader.set_path(data_path)"
   ]
  },
  {
   "cell_type": "markdown",
   "metadata": {},
   "source": [
    "##### Merging dataset\n",
    "\n"
   ]
  },
  {
   "cell_type": "code",
   "execution_count": 1,
   "metadata": {},
   "outputs": [
    {
     "name": "stdout",
     "output_type": "stream",
     "text": [
      "Dataset are merged, here is the metadata\n",
      "                          split                       IDs  \\\n",
      "splitted_data  [split0, split1]            [name2, name1]   \n",
      "simulated                    []  [added_ID, name2, name1]   \n",
      "\n",
      "                           features  \n",
      "splitted_data  [feature0, feature1]  \n",
      "simulated      [feature2, feature1]"
     ]
    }
   ],
   "source": [
    "merge_loader = DataFormat.merge_dataset([data_loader, multiprocess_loader], merge_path)\n",
    "print(\"Dataset are merged, here is the metadata\")\n",
    "print(merge_loader.metadata)"
   ]
  }
 ],
 "metadata": {
  "kernelspec": {
   "display_name": "Python 3",
   "language": "python",
   "name": "python3"
  },
  "language_info": {
   "codemirror_mode": {
    "name": "ipython",
    "version": 3
   },
   "file_extension": ".py",
   "mimetype": "text/x-python",
   "name": "python",
   "nbconvert_exporter": "python",
   "pygments_lexer": "ipython3",
   "version": "3.5.2"
  },
  "org": null
 },
 "nbformat": 4,
 "nbformat_minor": 0
}
